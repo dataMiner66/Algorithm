{
 "cells": [
  {
   "cell_type": "markdown",
   "metadata": {},
   "source": [
    "Time complexity   O(N^2)\n",
    "Space complexity  O(1)"
   ]
  },
  {
   "cell_type": "code",
   "execution_count": 110,
   "metadata": {
    "collapsed": false
   },
   "outputs": [],
   "source": [
    "class Solution(object):\n",
    "    def longestPalindrome(self, s):\n",
    "        \"\"\"\n",
    "        :type s: str\n",
    "        :rtype: str\n",
    "        \"\"\"\n",
    "        if len(s) == 0:\n",
    "            return [] \n",
    "        if len(s) == 1:\n",
    "            return s\n",
    "        startP = 0\n",
    "        endP = 0\n",
    "        maxLen = 0\n",
    "        for i in range(len(s)):\n",
    "            len1 = self.expandAroundCenter(s,i,i)\n",
    "            len2 = self.expandAroundCenter(s,i,i+1)\n",
    "            maxLen = max(len1,len2)\n",
    "            if (endP-startP+1) < maxLen:\n",
    "                startP = i - (maxLen-1)/2\n",
    "                endP = i + maxLen/2                \n",
    "        return s[startP:endP+1]\n",
    "    \n",
    "    def expandAroundCenter(self,s,L,R):\n",
    "        while (L>=0 and R<len(s) and s[L] == s[R]):\n",
    "            L -= 1\n",
    "            R += 1            \n",
    "        return R-L-1   \n",
    "        "
   ]
  },
  {
   "cell_type": "code",
   "execution_count": 105,
   "metadata": {
    "collapsed": false
   },
   "outputs": [
    {
     "name": "stdout",
     "output_type": "stream",
     "text": [
      "i=0 startP=0 endP=0 maxLen=1\n",
      "i=1 startP=0 endP=2 maxLen=3\n",
      "i=2 startP=0 endP=2 maxLen=3\n",
      "i=3 startP=0 endP=2 maxLen=1\n",
      "i=4 startP=0 endP=2 maxLen=1\n",
      "bab\n"
     ]
    }
   ],
   "source": [
    "test = Solution()\n",
    "s = \"babad\"\n",
    "#print test.expandAroundCenter(s,1,1)\n",
    "print test.longestPalindrome(s)"
   ]
  },
  {
   "cell_type": "code",
   "execution_count": 106,
   "metadata": {
    "collapsed": false
   },
   "outputs": [
    {
     "name": "stdout",
     "output_type": "stream",
     "text": [
      "i=0 startP=0 endP=0 maxLen=1\n",
      "i=1 startP=1 endP=2 maxLen=2\n",
      "i=2 startP=1 endP=2 maxLen=1\n",
      "i=3 startP=1 endP=2 maxLen=1\n",
      "bb\n"
     ]
    }
   ],
   "source": [
    "test = Solution()\n",
    "s = \"cbba\"\n",
    "print test.longestPalindrome(s)"
   ]
  },
  {
   "cell_type": "code",
   "execution_count": 107,
   "metadata": {
    "collapsed": false
   },
   "outputs": [
    {
     "name": "stdout",
     "output_type": "stream",
     "text": [
      "i=0 startP=0 endP=0 maxLen=1\n",
      "i=1 startP=0 endP=2 maxLen=3\n",
      "i=2 startP=0 endP=2 maxLen=1\n",
      "i=3 startP=0 endP=2 maxLen=2\n",
      "i=4 startP=0 endP=2 maxLen=1\n",
      "aba\n"
     ]
    }
   ],
   "source": [
    "test = Solution()\n",
    "s = \"abadd\"\n",
    "print test.longestPalindrome(s)"
   ]
  },
  {
   "cell_type": "code",
   "execution_count": 108,
   "metadata": {
    "collapsed": false
   },
   "outputs": [
    {
     "name": "stdout",
     "output_type": "stream",
     "text": [
      "i=0 startP=0 endP=0 maxLen=1\n",
      "i=1 startP=0 endP=0 maxLen=1\n",
      "i=2 startP=0 endP=0 maxLen=1\n",
      "i=3 startP=0 endP=0 maxLen=1\n",
      "i=4 startP=0 endP=0 maxLen=1\n",
      "a\n"
     ]
    }
   ],
   "source": [
    "test = Solution()\n",
    "s = \"abcda\"\n",
    "print test.longestPalindrome(s)"
   ]
  },
  {
   "cell_type": "code",
   "execution_count": 109,
   "metadata": {
    "collapsed": false
   },
   "outputs": [
    {
     "name": "stdout",
     "output_type": "stream",
     "text": [
      "i=0 startP=0 endP=1 maxLen=2\n",
      "i=1 startP=0 endP=3 maxLen=4\n",
      "i=2 startP=0 endP=3 maxLen=3\n",
      "i=3 startP=0 endP=3 maxLen=1\n",
      "i=4 startP=1 endP=7 maxLen=7\n",
      "i=5 startP=1 endP=7 maxLen=2\n",
      "i=6 startP=1 endP=7 maxLen=3\n",
      "i=7 startP=1 endP=7 maxLen=1\n",
      "aaabaaa\n"
     ]
    }
   ],
   "source": [
    "test = Solution()\n",
    "s = \"aaaabaaa\"\n",
    "print test.longestPalindrome(s)"
   ]
  },
  {
   "cell_type": "code",
   "execution_count": null,
   "metadata": {
    "collapsed": true
   },
   "outputs": [],
   "source": []
  }
 ],
 "metadata": {
  "kernelspec": {
   "display_name": "Python 2",
   "language": "python",
   "name": "python2"
  },
  "language_info": {
   "codemirror_mode": {
    "name": "ipython",
    "version": 2
   },
   "file_extension": ".py",
   "mimetype": "text/x-python",
   "name": "python",
   "nbconvert_exporter": "python",
   "pygments_lexer": "ipython2",
   "version": "2.7.10"
  }
 },
 "nbformat": 4,
 "nbformat_minor": 0
}
