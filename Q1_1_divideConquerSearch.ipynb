{
 "cells": [
  {
   "cell_type": "code",
   "execution_count": 3,
   "metadata": {
    "collapsed": false
   },
   "outputs": [],
   "source": [
    "def divideConquerSearch(nums,rest):\n",
    "    \"\"\"\n",
    "    :type nums: List[int] sorted\n",
    "    :type target: int\n",
    "    :rtype:\n",
    "    \"\"\"\n",
    "    if len(nums) <= 0:\n",
    "        return None\n",
    "    if len(nums) == 1 and nums[0] == rest:\n",
    "        return 0\n",
    "    if len(nums) == 1 and nums[0] != rest:\n",
    "        return None\n",
    "    mid = (len(nums))//2\n",
    "    if rest < nums[mid]:\n",
    "        return divideConquerSearch(nums[0:mid],rest)\n",
    "    else:\n",
    "        result = divideConquerSearch(nums[mid:],rest)\n",
    "        if result == None:\n",
    "            return result\n",
    "        else:\n",
    "            return result + mid"
   ]
  },
  {
   "cell_type": "code",
   "execution_count": 4,
   "metadata": {
    "collapsed": false
   },
   "outputs": [
    {
     "name": "stdout",
     "output_type": "stream",
     "text": [
      "2\n"
     ]
    }
   ],
   "source": [
    "print divideConquerSearch([0,1,3,7,9],3)"
   ]
  },
  {
   "cell_type": "code",
   "execution_count": null,
   "metadata": {
    "collapsed": true
   },
   "outputs": [],
   "source": []
  }
 ],
 "metadata": {
  "kernelspec": {
   "display_name": "Python 2",
   "language": "python",
   "name": "python2"
  },
  "language_info": {
   "codemirror_mode": {
    "name": "ipython",
    "version": 2
   },
   "file_extension": ".py",
   "mimetype": "text/x-python",
   "name": "python",
   "nbconvert_exporter": "python",
   "pygments_lexer": "ipython2",
   "version": "2.7.10"
  }
 },
 "nbformat": 4,
 "nbformat_minor": 0
}
