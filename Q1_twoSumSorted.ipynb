{
 "cells": [
  {
   "cell_type": "markdown",
   "metadata": {},
   "source": [
    "#TWO SUM in a sorted array\n",
    "Given an array of integers, return indices of the two numbers such that they add up to a specific target.\n",
    "You may assume that each input would have exactly one solution\n",
    "the array is sorted"
   ]
  },
  {
   "cell_type": "markdown",
   "metadata": {},
   "source": [
    "## solution 1\n",
    "Time complexity: O(nlog(n))\n",
    "space complexity: O(1)    "
   ]
  },
  {
   "cell_type": "code",
   "execution_count": 97,
   "metadata": {
    "collapsed": false
   },
   "outputs": [],
   "source": [
    "class Solution(object):\n",
    "    def sumTwoSumSorted(self,nums,target):\n",
    "        \"\"\"\n",
    "        :type nums: List[int]\n",
    "        :type target: int\n",
    "        :rtype:\n",
    "        \"\"\"\n",
    "        if len(nums) <= 1 :\n",
    "            return []\n",
    "        \n",
    "        rest_max = target - nums[0]\n",
    "        rest_min = target - nums[-1]\n",
    "        \n",
    "        if rest_max < nums[0] or rest_min > nums[-1]:\n",
    "            return []\n",
    "        \n",
    "        for index in range(len(nums)):\n",
    "            \n",
    "            result =  divideConquerSearch(nums,target-nums[index])\n",
    "            #print \"index=%d\" %(index)\n",
    "            #print result\n",
    "            if result != None and (index != result):\n",
    "                return [index, divideConquerSearch(nums,target-nums[index])]\n",
    "        return []    \n",
    "\n",
    "    def divideConquerSearch(self,nums,rest):\n",
    "        \"\"\"\n",
    "        :type nums: List[int]\n",
    "        :type target: int\n",
    "        :rtype:\n",
    "        \"\"\"\n",
    "        if len(nums) <= 0:\n",
    "            return None\n",
    "        if len(nums) == 1 and nums[0] == rest:\n",
    "            return 0\n",
    "        if len(nums) == 1 and nums[0] != rest:\n",
    "            return None\n",
    "        mid = (len(nums))//2\n",
    "        if rest < nums[mid]:\n",
    "            return divideConquerSearch(nums[0:mid],rest)\n",
    "        else:\n",
    "            result = divideConquerSearch(nums[mid:],rest)\n",
    "        if result == None:\n",
    "            return result\n",
    "        else:\n",
    "            return result + mid"
   ]
  },
  {
   "cell_type": "code",
   "execution_count": 102,
   "metadata": {
    "collapsed": false
   },
   "outputs": [
    {
     "name": "stdout",
     "output_type": "stream",
     "text": [
      "[]\n"
     ]
    }
   ],
   "source": [
    "test = Solution()\n",
    "print test.sumTwoSumSorted([0,0,0,1,1,3,7,9,9],14)"
   ]
  },
  {
   "cell_type": "code",
   "execution_count": 103,
   "metadata": {
    "collapsed": false
   },
   "outputs": [
    {
     "name": "stdout",
     "output_type": "stream",
     "text": [
      "[0, 1]\n"
     ]
    }
   ],
   "source": [
    "test = Solution()\n",
    "print test.sumTwoSumSorted([0,0],0)"
   ]
  },
  {
   "cell_type": "markdown",
   "metadata": {},
   "source": [
    "## solution 2\n",
    "Time complexity: O(n)\n",
    "space complexity: O(1)    "
   ]
  },
  {
   "cell_type": "code",
   "execution_count": 107,
   "metadata": {
    "collapsed": true
   },
   "outputs": [],
   "source": [
    "class Solution2(object):\n",
    "    def sumTwoSumSorted2(self,nums,target):\n",
    "        \"\"\"\n",
    "        :type nums: List[int]\n",
    "        :type target: int\n",
    "        :rtype:\n",
    "        \"\"\"\n",
    "        if len(nums) < 2:\n",
    "            return []        \n",
    "        p1 = 0\n",
    "        p2 = len(nums)-1\n",
    "        \n",
    "        while p2 >= p1:\n",
    "            sumV = nums[p1] + nums[p2]\n",
    "            if sumV < target:\n",
    "                p1 += 1\n",
    "            elif sumV > target:\n",
    "                p2 -= 1\n",
    "            else:\n",
    "                return [p1, p2]\n",
    "        return []                    \n",
    "                "
   ]
  },
  {
   "cell_type": "code",
   "execution_count": 110,
   "metadata": {
    "collapsed": false
   },
   "outputs": [
    {
     "name": "stdout",
     "output_type": "stream",
     "text": [
      "[0, 5]\n"
     ]
    }
   ],
   "source": [
    "test = Solution2()\n",
    "print test.sumTwoSumSorted2([0,0,2,4,7,9],9)"
   ]
  }
 ],
 "metadata": {
  "kernelspec": {
   "display_name": "Python 2",
   "language": "python",
   "name": "python2"
  },
  "language_info": {
   "codemirror_mode": {
    "name": "ipython",
    "version": 2
   },
   "file_extension": ".py",
   "mimetype": "text/x-python",
   "name": "python",
   "nbconvert_exporter": "python",
   "pygments_lexer": "ipython2",
   "version": "2.7.10"
  }
 },
 "nbformat": 4,
 "nbformat_minor": 0
}
