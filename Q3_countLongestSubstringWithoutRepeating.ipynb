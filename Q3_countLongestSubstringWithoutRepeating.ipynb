{
 "cells": [
  {
   "cell_type": "markdown",
   "metadata": {},
   "source": [
    "# Solution 1\n",
    "Time complexity  O(N)\n",
    "space complexity O(1)"
   ]
  },
  {
   "cell_type": "code",
   "execution_count": 40,
   "metadata": {
    "collapsed": false
   },
   "outputs": [],
   "source": [
    "class Solution(object):\n",
    "    def lengthOfLongestSubstring(self, s):\n",
    "        \"\"\"\n",
    "        :type s: str\n",
    "        :rtype: int\n",
    "        \"\"\"\n",
    "        if len(s) == 0:\n",
    "            return 0\n",
    "        charSet = {}\n",
    "        #charSetount = {}\n",
    "        startP = endP = 0\n",
    "        count1 = count2 = 0\n",
    "        for i in range(len(s)):\n",
    "            if s[i] not in charSet:\n",
    "                charSet[s[i]] = i               \n",
    "                endP = i\n",
    "                count1 += 1\n",
    "                \n",
    "            else:           \n",
    "                count2 =max(count1, count2) \n",
    "                if s[i] != s[i-1]:\n",
    "                    if charSet[s[i]] >= startP and charSet[s[i]] < endP:\n",
    "                        startP = charSet[s[i]] + 1 \n",
    "                        charSet[s[i]] = i\n",
    "                        endP = i\n",
    "                        count1 = endP-startP+1\n",
    "                    else:\n",
    "                        charSet[s[i]] = i\n",
    "                        endP = i\n",
    "                        count1 += 1\n",
    "                else:\n",
    "                    startP = endP = i \n",
    "                    charSet[s[i]] = i\n",
    "                    count1 = endP-startP+1\n",
    "            #print \"startP = %d endP = %d\" %(startP,endP)        \n",
    "        return max(count1,count2)       \n",
    "  "
   ]
  },
  {
   "cell_type": "code",
   "execution_count": 30,
   "metadata": {
    "collapsed": false
   },
   "outputs": [
    {
     "name": "stdout",
     "output_type": "stream",
     "text": [
      "startP = 0 endP = 0\n",
      "startP = 0 endP = 1\n",
      "startP = 0 endP = 2\n",
      "startP = 1 endP = 3\n",
      "startP = 1 endP = 4\n",
      "startP = 3 endP = 5\n",
      "startP = 3 endP = 6\n",
      "4\n"
     ]
    }
   ],
   "source": [
    "test = Solution()\n",
    "s = \"abcadce\"\n",
    "print test.lengthOfLongestSubstring(s)"
   ]
  },
  {
   "cell_type": "code",
   "execution_count": 43,
   "metadata": {
    "collapsed": false
   },
   "outputs": [
    {
     "name": "stdout",
     "output_type": "stream",
     "text": [
      "startP = 0 endP = 0\n",
      "startP = 0 endP = 1\n",
      "startP = 2 endP = 2\n",
      "startP = 2 endP = 3\n",
      "2\n"
     ]
    }
   ],
   "source": [
    "test = Solution()\n",
    "s = \"abba\"\n",
    "print test.lengthOfLongestSubstring(s)"
   ]
  },
  {
   "cell_type": "code",
   "execution_count": 42,
   "metadata": {
    "collapsed": false
   },
   "outputs": [
    {
     "name": "stdout",
     "output_type": "stream",
     "text": [
      "startP = 0 endP = 0\n",
      "startP = 0 endP = 1\n",
      "startP = 1 endP = 2\n",
      "startP = 1 endP = 3\n",
      "3\n"
     ]
    }
   ],
   "source": [
    "test = Solution()\n",
    "s = \"dvdf\"\n",
    "print test.lengthOfLongestSubstring(s)"
   ]
  },
  {
   "cell_type": "code",
   "execution_count": 41,
   "metadata": {
    "collapsed": false
   },
   "outputs": [
    {
     "name": "stdout",
     "output_type": "stream",
     "text": [
      "startP = 0 endP = 0\n",
      "startP = 0 endP = 1\n",
      "startP = 2 endP = 2\n",
      "startP = 2 endP = 3\n",
      "startP = 2 endP = 4\n",
      "startP = 2 endP = 5\n",
      "startP = 2 endP = 6\n",
      "5\n"
     ]
    }
   ],
   "source": [
    "test = Solution()\n",
    "s = \"tmmzuxt\"\n",
    "print test.lengthOfLongestSubstring(s)\n",
    "\n"
   ]
  },
  {
   "cell_type": "code",
   "execution_count": 48,
   "metadata": {
    "collapsed": false
   },
   "outputs": [
    {
     "name": "stdout",
     "output_type": "stream",
     "text": [
      "startP = 0 endP = 0\n",
      "startP = 0 endP = 1\n",
      "startP = 2 endP = 2\n",
      "startP = 2 endP = 3\n",
      "startP = 2 endP = 4\n",
      "startP = 2 endP = 5\n",
      "startP = 2 endP = 6\n",
      "startP = 2 endP = 7\n",
      "startP = 2 endP = 8\n",
      "7\n"
     ]
    }
   ],
   "source": [
    "test = Solution()\n",
    "s = \"aAABbf124\"\n",
    "print test.lengthOfLongestSubstring(s)"
   ]
  },
  {
   "cell_type": "markdown",
   "metadata": {},
   "source": [
    "# Solution 2\n",
    "Time complexity  O(N)\n",
    "space complexity O(1)"
   ]
  },
  {
   "cell_type": "code",
   "execution_count": 88,
   "metadata": {
    "collapsed": true
   },
   "outputs": [],
   "source": [
    "class Solution2(object):\n",
    "    def lengthOfLongestSubstring2(self, s):\n",
    "        \"\"\"\n",
    "        :type s: str\n",
    "        :rtype: int\n",
    "        \"\"\"\n",
    "        if len(s) == 0:\n",
    "            return 0\n",
    "        if len(s) == 1:\n",
    "            return 1    \n",
    "        charSet = {}\n",
    "        \n",
    "        startPos = 0\n",
    "        maxLen = 0        \n",
    "        for i in range(len(s)):\n",
    "            if s[i] not in charSet:                \n",
    "                charSet[s[i]] = i                                             \n",
    "            elif charSet[s[i]] >= startPos:                \n",
    "                startPos = charSet[s[i]] + 1\n",
    "                charSet[s[i]] = i\n",
    "            else:\n",
    "                charSet[s[i]] = i\n",
    "            maxLen = max(maxLen,i-startPos+1)\n",
    "        return maxLen        \n",
    "  "
   ]
  },
  {
   "cell_type": "code",
   "execution_count": 89,
   "metadata": {
    "collapsed": false
   },
   "outputs": [
    {
     "name": "stdout",
     "output_type": "stream",
     "text": [
      "4\n"
     ]
    }
   ],
   "source": [
    "test = Solution2()\n",
    "s = \"aAABbf\"\n",
    "print test.lengthOfLongestSubstring2(s)"
   ]
  },
  {
   "cell_type": "code",
   "execution_count": 90,
   "metadata": {
    "collapsed": false
   },
   "outputs": [
    {
     "name": "stdout",
     "output_type": "stream",
     "text": [
      "2\n"
     ]
    }
   ],
   "source": [
    "test = Solution2()\n",
    "s = \"abbc\"\n",
    "print test.lengthOfLongestSubstring2(s)"
   ]
  },
  {
   "cell_type": "code",
   "execution_count": 91,
   "metadata": {
    "collapsed": false
   },
   "outputs": [
    {
     "name": "stdout",
     "output_type": "stream",
     "text": [
      "8\n"
     ]
    }
   ],
   "source": [
    "test = Solution2()\n",
    "s = \"qwnfenpglqdq\"\n",
    "print test.lengthOfLongestSubstring2(s)"
   ]
  },
  {
   "cell_type": "markdown",
   "metadata": {},
   "source": [
    "# Solution 3\n",
    "Time complexity  O(N)\n",
    "\n",
    "space complexity O(1)"
   ]
  },
  {
   "cell_type": "code",
   "execution_count": 92,
   "metadata": {
    "collapsed": true
   },
   "outputs": [],
   "source": [
    "class Solution2(object):\n",
    "    def lengthOfLongestSubstring2(self, s):\n",
    "        \"\"\"\n",
    "        :type s: str\n",
    "        :rtype: int\n",
    "        \"\"\"\n",
    "        if len(s) == 0:\n",
    "            return 0\n",
    "        if len(s) == 1:\n",
    "            return 1    \n",
    "        charSet = {}\n",
    "        \n",
    "        startPos = 0\n",
    "        maxLen = 0        \n",
    "        for i in range(len(s)):\n",
    "            if s[i] in charSet and charSet[s[i]] >= startPos:\n",
    "                startPos = charSet[s[i]] + 1\n",
    "                charSet[s[i]] = i\n",
    "            else:\n",
    "                charSet[s[i]] = i\n",
    "            maxLen = max(maxLen,i-startPos+1)\n",
    "        return maxLen"
   ]
  },
  {
   "cell_type": "code",
   "execution_count": null,
   "metadata": {
    "collapsed": true
   },
   "outputs": [],
   "source": []
  }
 ],
 "metadata": {
  "kernelspec": {
   "display_name": "Python 2",
   "language": "python",
   "name": "python2"
  },
  "language_info": {
   "codemirror_mode": {
    "name": "ipython",
    "version": 2
   },
   "file_extension": ".py",
   "mimetype": "text/x-python",
   "name": "python",
   "nbconvert_exporter": "python",
   "pygments_lexer": "ipython2",
   "version": "2.7.10"
  }
 },
 "nbformat": 4,
 "nbformat_minor": 0
}
