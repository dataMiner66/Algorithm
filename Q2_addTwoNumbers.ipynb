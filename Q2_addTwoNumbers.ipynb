{
 "cells": [
  {
   "cell_type": "markdown",
   "metadata": {},
   "source": [
    "# 1 solution\n",
    "Time complexity : O(N)\n",
    "Space complexity: O(N)"
   ]
  },
  {
   "cell_type": "code",
   "execution_count": 16,
   "metadata": {
    "collapsed": true
   },
   "outputs": [],
   "source": [
    "# Definition for singly-linked list.\n",
    "#class ListNode(object):\n",
    "#    def __init__(self, x):\n",
    "#        self.val = x\n",
    "#        self.next = None\n",
    "\n",
    "class Solution(object):\n",
    "    def addTwoNumbers(self, l1, l2):\n",
    "        \"\"\"\n",
    "        :type l1: ListNode\n",
    "        :type l2: ListNode\n",
    "        :rtype: ListNode\n",
    "        \"\"\"\n",
    "        if l1 == None:\n",
    "            return l2\n",
    "        if l2 == None:\n",
    "            return l1\n",
    "        \n",
    "        \n",
    "        flag = 0 \n",
    "        l3 = ListNode(0)\n",
    "        head = l3        \n",
    "        p1 = l1\n",
    "        p2 = l2\n",
    "        while p1 and p2:                \n",
    "            l3.next = ListNode((p1.val + p2.val + flag) % 10)\n",
    "            flag = (p1.val + p2.val + flag) // 10 \n",
    "            p1 = p1.next\n",
    "            p2 = p2.next\n",
    "            l3 = l3.next\n",
    "        while p2 != None:                \n",
    "            l3.next = ListNode((p2.val + flag) % 10)\n",
    "            flag = (p2.val + flag) // 10\n",
    "            l3 = l3.next\n",
    "            p2 = p2.next\n",
    "        while p1 != None:                \n",
    "            l3.next = ListNode((p1.val + flag) % 10)\n",
    "            flag = (p1.val + flag) // 10\n",
    "            l3 = l3.next\n",
    "            p1 = p1.next  \n",
    "            \n",
    "        if flag != 0:\n",
    "            l3.next = ListNode(flag)           \n",
    "        return head.next\n",
    "    "
   ]
  },
  {
   "cell_type": "code",
   "execution_count": 8,
   "metadata": {
    "collapsed": false
   },
   "outputs": [],
   "source": [
    "# Definition for singly-linked list.\n",
    "class ListNode(object):\n",
    "    def __init__(self, x):\n",
    "        self.val = x\n",
    "        self.next = None\n",
    "\n",
    "class Solution(object):\n",
    "    def addTwoNumbers(self, l1, l2):\n",
    "        \"\"\"\n",
    "        :type l1: ListNode\n",
    "        :type l2: ListNode\n",
    "        :rtype: ListNode\n",
    "        \"\"\"\n",
    "        if l1 == None:\n",
    "            return l2\n",
    "        if l2 == None:\n",
    "            return l1\n",
    "        \n",
    "        \n",
    "        flag = 0 \n",
    "        l3 = ListNode(0)\n",
    "        head = l3        \n",
    "        p1 = l1\n",
    "        p2 = l2\n",
    "        while p1 != None and p2 != None:                \n",
    "            l3.next = ListNode((p1.val + p2.val + flag) % 10)\n",
    "            flag = (p1.val + p2.val + flag) // 10 \n",
    "            p1 = p1.next\n",
    "            p2 = p2.next\n",
    "            l3 = l3.next\n",
    "        while p2 != None:                \n",
    "            l3.next = ListNode((p2.val + flag) % 10)\n",
    "            flag = (p2.val + flag) // 10\n",
    "            l3 = l3.next\n",
    "            p2 = p2.next\n",
    "        while p1 != None:                \n",
    "            l3.next = ListNode((p1.val + flag) % 10)\n",
    "            flag = (p1.val + flag) // 10\n",
    "            l3 = l3.next\n",
    "            p1 = p1.next  \n",
    "            \n",
    "        if flag != 0:\n",
    "            l3.next = ListNode(flag)           \n",
    "        return head.next\n",
    "    \n",
    "    def lenNum(self,l1):\n",
    "        if l1 == None:\n",
    "            return 0\n",
    "        count = 1\n",
    "        p1 = l1\n",
    "        while p1.next != None:\n",
    "            p1 = p1.next\n",
    "            count += 1\n",
    "        return count \n",
    "    \n",
    "    def printNum(self,l3):\n",
    "        if l3 == None:\n",
    "            return         \n",
    "        p3 = l3\n",
    "        print p3.val\n",
    "        while p3.next != None:            \n",
    "            p3 = p3.next\n",
    "            print p3.val"
   ]
  },
  {
   "cell_type": "code",
   "execution_count": 2,
   "metadata": {
    "collapsed": true
   },
   "outputs": [],
   "source": [
    "l1_1 = ListNode(8)\n",
    "l1_2 = ListNode(1)\n",
    "l1_3 = ListNode(9)\n",
    "l1_1.next = l1_2\n",
    "l1_2.next = l1_3"
   ]
  },
  {
   "cell_type": "code",
   "execution_count": 3,
   "metadata": {
    "collapsed": true
   },
   "outputs": [],
   "source": [
    "l2_1 = ListNode(2)\n",
    "l2_2 = ListNode(1)\n",
    "l2_3 = ListNode(2)\n",
    "l2_4 = ListNode(9)\n",
    "l2_1.next = l2_2\n",
    "l2_2.next = l2_3\n",
    "l2_3.next = l2_4"
   ]
  },
  {
   "cell_type": "code",
   "execution_count": 9,
   "metadata": {
    "collapsed": false
   },
   "outputs": [
    {
     "name": "stdout",
     "output_type": "stream",
     "text": [
      "8\n",
      "1\n",
      "9\n",
      "2\n",
      "1\n",
      "2\n",
      "9\n"
     ]
    },
    {
     "data": {
      "text/plain": [
       "<__main__.ListNode at 0x3ab15f8>"
      ]
     },
     "execution_count": 9,
     "metadata": {},
     "output_type": "execute_result"
    }
   ],
   "source": [
    "test = Solution()\n",
    "test.printNum(l1_1)\n",
    "test.printNum(l2_1)\n",
    "test.addTwoNumbers(l1_1, l2_1)"
   ]
  },
  {
   "cell_type": "code",
   "execution_count": 10,
   "metadata": {
    "collapsed": false
   },
   "outputs": [
    {
     "name": "stdout",
     "output_type": "stream",
     "text": [
      "30105896\n"
     ]
    }
   ],
   "source": [
    "l = 1\n",
    "print id(l)\n"
   ]
  },
  {
   "cell_type": "code",
   "execution_count": 11,
   "metadata": {
    "collapsed": false
   },
   "outputs": [
    {
     "name": "stdout",
     "output_type": "stream",
     "text": [
      "61545048\n",
      "61546224\n",
      "62202096\n"
     ]
    }
   ],
   "source": [
    "l6_1 = ListNode(8)\n",
    "l6_2 = ListNode(1)\n",
    "l6_3 = ListNode(9)\n",
    "\n",
    "print id(l6_1)\n",
    "print id(l6_2)\n",
    "print id(l6_3)\n"
   ]
  },
  {
   "cell_type": "code",
   "execution_count": 12,
   "metadata": {
    "collapsed": false
   },
   "outputs": [
    {
     "name": "stdout",
     "output_type": "stream",
     "text": [
      "506046248\n"
     ]
    }
   ],
   "source": [
    "print id(l6_1.next)\n"
   ]
  },
  {
   "cell_type": "code",
   "execution_count": 13,
   "metadata": {
    "collapsed": false
   },
   "outputs": [
    {
     "name": "stdout",
     "output_type": "stream",
     "text": [
      "506046248\n",
      "61545048\n"
     ]
    }
   ],
   "source": [
    "p6 = None\n",
    "print id(p6)\n",
    "p6 = l6_1\n",
    "print id(p6)\n"
   ]
  },
  {
   "cell_type": "code",
   "execution_count": 14,
   "metadata": {
    "collapsed": false
   },
   "outputs": [
    {
     "name": "stdout",
     "output_type": "stream",
     "text": [
      "506046248\n"
     ]
    }
   ],
   "source": [
    "p6 = l6_1.next\n",
    "print id(p6)"
   ]
  },
  {
   "cell_type": "code",
   "execution_count": 15,
   "metadata": {
    "collapsed": false
   },
   "outputs": [
    {
     "name": "stdout",
     "output_type": "stream",
     "text": [
      "61546224\n"
     ]
    }
   ],
   "source": [
    "p6 = l6_2\n",
    "print id(p6)"
   ]
  },
  {
   "cell_type": "code",
   "execution_count": null,
   "metadata": {
    "collapsed": true
   },
   "outputs": [],
   "source": []
  }
 ],
 "metadata": {
  "kernelspec": {
   "display_name": "Python 2",
   "language": "python",
   "name": "python2"
  },
  "language_info": {
   "codemirror_mode": {
    "name": "ipython",
    "version": 2
   },
   "file_extension": ".py",
   "mimetype": "text/x-python",
   "name": "python",
   "nbconvert_exporter": "python",
   "pygments_lexer": "ipython2",
   "version": "2.7.10"
  }
 },
 "nbformat": 4,
 "nbformat_minor": 0
}
